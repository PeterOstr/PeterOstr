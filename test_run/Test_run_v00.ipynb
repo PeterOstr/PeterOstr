{
 "cells": [
  {
   "cell_type": "code",
   "execution_count": 1,
   "metadata": {},
   "outputs": [],
   "source": [
    "import pandas as pd\n",
    "import numpy as np"
   ]
  },
  {
   "cell_type": "markdown",
   "metadata": {},
   "source": [
    "Есть продажи некоторых продуктов по дням отдельно в каждый канал продаж (Shipments_by_PO.csv) на период с января 17 по июнь 18. Также указано, с какой скидкой был продан продукт. Продажи могут быть не во все дни.\n",
    "  * Есть привязка каждого канала продаж к т.н. направлению продаж – оптовая или розничная торговля (Mapping.csv)\n",
    "  * Есть прогноз, с какой скидкой будут продаваться продукты в июле-августе 18 (Forecast_of_discounts.xlsx). Если продукта/направления нет в файле, значит скидка – 0%\n",
    "  * Нужно построить прогноз продаж на июль-сентябрь 18 с помощью простейшего алгоритма – линейной регрессии.\n",
    "  * Регрессию нужно построить по каждой комбинации продукт-направление отдельно, учитывая номер месяца, года и размер скидки. Номер месяца нужно преобразовать с помощью One-Hot Encoding.\n",
    "  * Прогноз нужен на уровне месяца, продукта и направления продаж, соответственно, все данные нужно сначала преобразовать на данный уровень с помощью Pandas."
   ]
  },
  {
   "cell_type": "code",
   "execution_count": 8,
   "metadata": {},
   "outputs": [],
   "source": [
    "data_shipments = pd.read_csv('C:/Users/Peter/Documents/GitHub/PeterOstr/test_run/Shipments_by_PO.csv')\n",
    "data_mapping = pd.read_csv('C:/Users/Peter/Documents/GitHub/PeterOstr/test_run/Mapping.csv')\n",
    "data_forecast = pd.read_excel('C:/Users/Peter/Documents/GitHub/PeterOstr/test_run/Forecast_of_discounts.xlsx')\n"
   ]
  },
  {
   "cell_type": "code",
   "execution_count": 19,
   "metadata": {},
   "outputs": [
    {
     "data": {
      "text/plain": [
       "573"
      ]
     },
     "execution_count": 19,
     "metadata": {},
     "output_type": "execute_result"
    }
   ],
   "source": [
    "a = data_forecast['Код товара'].value_counts()\n",
    "len(a)"
   ]
  },
  {
   "cell_type": "code",
   "execution_count": 10,
   "metadata": {},
   "outputs": [
    {
     "data": {
      "text/plain": [
       "{'Код товара': 0, 'Направление продаж': 0, 'Month': 0, 'Year': 0, 'Скидка': 0}"
      ]
     },
     "execution_count": 10,
     "metadata": {},
     "output_type": "execute_result"
    }
   ],
   "source": [
    "{key:data_forecast[key].isna().sum() for key in data_forecast.columns}\n"
   ]
  },
  {
   "cell_type": "code",
   "execution_count": 11,
   "metadata": {},
   "outputs": [
    {
     "data": {
      "text/plain": [
       "{'Код товара': 0,\n",
       " 'Канал': 0,\n",
       " 'Дата накладной': 0,\n",
       " 'Продажи, шт': 0,\n",
       " 'скидка': 0}"
      ]
     },
     "execution_count": 11,
     "metadata": {},
     "output_type": "execute_result"
    }
   ],
   "source": [
    "{key:data_shipments[key].isna().sum() for key in data_shipments.columns}\n"
   ]
  },
  {
   "cell_type": "code",
   "execution_count": 3,
   "metadata": {},
   "outputs": [
    {
     "data": {
      "text/html": [
       "<div>\n",
       "<style scoped>\n",
       "    .dataframe tbody tr th:only-of-type {\n",
       "        vertical-align: middle;\n",
       "    }\n",
       "\n",
       "    .dataframe tbody tr th {\n",
       "        vertical-align: top;\n",
       "    }\n",
       "\n",
       "    .dataframe thead th {\n",
       "        text-align: right;\n",
       "    }\n",
       "</style>\n",
       "<table border=\"1\" class=\"dataframe\">\n",
       "  <thead>\n",
       "    <tr style=\"text-align: right;\">\n",
       "      <th></th>\n",
       "      <th>Код товара</th>\n",
       "      <th>Канал</th>\n",
       "      <th>Дата накладной</th>\n",
       "      <th>Продажи, шт</th>\n",
       "      <th>скидка</th>\n",
       "    </tr>\n",
       "  </thead>\n",
       "  <tbody>\n",
       "    <tr>\n",
       "      <th>0</th>\n",
       "      <td>299</td>\n",
       "      <td>Канал 1</td>\n",
       "      <td>06.01.2017</td>\n",
       "      <td>32</td>\n",
       "      <td>19</td>\n",
       "    </tr>\n",
       "    <tr>\n",
       "      <th>1</th>\n",
       "      <td>299</td>\n",
       "      <td>Канал 1</td>\n",
       "      <td>09.01.2017</td>\n",
       "      <td>59</td>\n",
       "      <td>19</td>\n",
       "    </tr>\n",
       "    <tr>\n",
       "      <th>2</th>\n",
       "      <td>299</td>\n",
       "      <td>Канал 1</td>\n",
       "      <td>10.01.2017</td>\n",
       "      <td>22</td>\n",
       "      <td>2</td>\n",
       "    </tr>\n",
       "    <tr>\n",
       "      <th>3</th>\n",
       "      <td>299</td>\n",
       "      <td>Канал 1</td>\n",
       "      <td>11.01.2017</td>\n",
       "      <td>35</td>\n",
       "      <td>10</td>\n",
       "    </tr>\n",
       "    <tr>\n",
       "      <th>4</th>\n",
       "      <td>299</td>\n",
       "      <td>Канал 1</td>\n",
       "      <td>12.01.2017</td>\n",
       "      <td>55</td>\n",
       "      <td>4</td>\n",
       "    </tr>\n",
       "    <tr>\n",
       "      <th>...</th>\n",
       "      <td>...</td>\n",
       "      <td>...</td>\n",
       "      <td>...</td>\n",
       "      <td>...</td>\n",
       "      <td>...</td>\n",
       "    </tr>\n",
       "    <tr>\n",
       "      <th>808089</th>\n",
       "      <td>311</td>\n",
       "      <td>Канал 13</td>\n",
       "      <td>25.05.2018</td>\n",
       "      <td>63</td>\n",
       "      <td>2</td>\n",
       "    </tr>\n",
       "    <tr>\n",
       "      <th>808090</th>\n",
       "      <td>311</td>\n",
       "      <td>Канал 13</td>\n",
       "      <td>05.06.2018</td>\n",
       "      <td>48</td>\n",
       "      <td>6</td>\n",
       "    </tr>\n",
       "    <tr>\n",
       "      <th>808091</th>\n",
       "      <td>311</td>\n",
       "      <td>Канал 13</td>\n",
       "      <td>08.06.2018</td>\n",
       "      <td>68</td>\n",
       "      <td>6</td>\n",
       "    </tr>\n",
       "    <tr>\n",
       "      <th>808092</th>\n",
       "      <td>311</td>\n",
       "      <td>Канал 13</td>\n",
       "      <td>20.06.2018</td>\n",
       "      <td>51</td>\n",
       "      <td>8</td>\n",
       "    </tr>\n",
       "    <tr>\n",
       "      <th>808093</th>\n",
       "      <td>311</td>\n",
       "      <td>Канал 13</td>\n",
       "      <td>27.06.2018</td>\n",
       "      <td>52</td>\n",
       "      <td>5</td>\n",
       "    </tr>\n",
       "  </tbody>\n",
       "</table>\n",
       "<p>808094 rows × 5 columns</p>\n",
       "</div>"
      ],
      "text/plain": [
       "        Код товара     Канал Дата накладной  Продажи, шт  скидка\n",
       "0              299   Канал 1     06.01.2017           32      19\n",
       "1              299   Канал 1     09.01.2017           59      19\n",
       "2              299   Канал 1     10.01.2017           22       2\n",
       "3              299   Канал 1     11.01.2017           35      10\n",
       "4              299   Канал 1     12.01.2017           55       4\n",
       "...            ...       ...            ...          ...     ...\n",
       "808089         311  Канал 13     25.05.2018           63       2\n",
       "808090         311  Канал 13     05.06.2018           48       6\n",
       "808091         311  Канал 13     08.06.2018           68       6\n",
       "808092         311  Канал 13     20.06.2018           51       8\n",
       "808093         311  Канал 13     27.06.2018           52       5\n",
       "\n",
       "[808094 rows x 5 columns]"
      ]
     },
     "execution_count": 3,
     "metadata": {},
     "output_type": "execute_result"
    }
   ],
   "source": [
    "data_shipments"
   ]
  },
  {
   "cell_type": "code",
   "execution_count": 22,
   "metadata": {},
   "outputs": [
    {
     "data": {
      "text/plain": [
       "Оптовая торговля      562\n",
       "Розничная торговля    543\n",
       "Name: Направление продаж, dtype: int64"
      ]
     },
     "execution_count": 22,
     "metadata": {},
     "output_type": "execute_result"
    }
   ],
   "source": [
    "data_forecast['Направление продаж'].value_counts()"
   ]
  },
  {
   "cell_type": "code",
   "execution_count": 23,
   "metadata": {},
   "outputs": [
    {
     "data": {
      "text/html": [
       "<div>\n",
       "<style scoped>\n",
       "    .dataframe tbody tr th:only-of-type {\n",
       "        vertical-align: middle;\n",
       "    }\n",
       "\n",
       "    .dataframe tbody tr th {\n",
       "        vertical-align: top;\n",
       "    }\n",
       "\n",
       "    .dataframe thead th {\n",
       "        text-align: right;\n",
       "    }\n",
       "</style>\n",
       "<table border=\"1\" class=\"dataframe\">\n",
       "  <thead>\n",
       "    <tr style=\"text-align: right;\">\n",
       "      <th></th>\n",
       "      <th>Канал</th>\n",
       "      <th>Направление продаж</th>\n",
       "    </tr>\n",
       "  </thead>\n",
       "  <tbody>\n",
       "    <tr>\n",
       "      <th>0</th>\n",
       "      <td>Канал 1</td>\n",
       "      <td>Розничная торговля</td>\n",
       "    </tr>\n",
       "    <tr>\n",
       "      <th>1</th>\n",
       "      <td>Канал 2</td>\n",
       "      <td>Розничная торговля</td>\n",
       "    </tr>\n",
       "    <tr>\n",
       "      <th>2</th>\n",
       "      <td>Канал 3</td>\n",
       "      <td>Розничная торговля</td>\n",
       "    </tr>\n",
       "    <tr>\n",
       "      <th>3</th>\n",
       "      <td>Канал 4</td>\n",
       "      <td>Розничная торговля</td>\n",
       "    </tr>\n",
       "    <tr>\n",
       "      <th>4</th>\n",
       "      <td>Канал 5</td>\n",
       "      <td>Розничная торговля</td>\n",
       "    </tr>\n",
       "    <tr>\n",
       "      <th>5</th>\n",
       "      <td>Канал 6</td>\n",
       "      <td>Оптовая торговля</td>\n",
       "    </tr>\n",
       "    <tr>\n",
       "      <th>6</th>\n",
       "      <td>Канал 7</td>\n",
       "      <td>Оптовая торговля</td>\n",
       "    </tr>\n",
       "    <tr>\n",
       "      <th>7</th>\n",
       "      <td>Канал 8</td>\n",
       "      <td>Оптовая торговля</td>\n",
       "    </tr>\n",
       "    <tr>\n",
       "      <th>8</th>\n",
       "      <td>Канал 9</td>\n",
       "      <td>Оптовая торговля</td>\n",
       "    </tr>\n",
       "    <tr>\n",
       "      <th>9</th>\n",
       "      <td>Канал 10</td>\n",
       "      <td>Оптовая торговля</td>\n",
       "    </tr>\n",
       "    <tr>\n",
       "      <th>10</th>\n",
       "      <td>Канал 11</td>\n",
       "      <td>Оптовая торговля</td>\n",
       "    </tr>\n",
       "    <tr>\n",
       "      <th>11</th>\n",
       "      <td>Канал 12</td>\n",
       "      <td>Оптовая торговля</td>\n",
       "    </tr>\n",
       "    <tr>\n",
       "      <th>12</th>\n",
       "      <td>Канал 13</td>\n",
       "      <td>Оптовая торговля</td>\n",
       "    </tr>\n",
       "  </tbody>\n",
       "</table>\n",
       "</div>"
      ],
      "text/plain": [
       "       Канал  Направление продаж\n",
       "0    Канал 1  Розничная торговля\n",
       "1    Канал 2  Розничная торговля\n",
       "2    Канал 3  Розничная торговля\n",
       "3    Канал 4  Розничная торговля\n",
       "4    Канал 5  Розничная торговля\n",
       "5    Канал 6    Оптовая торговля\n",
       "6    Канал 7    Оптовая торговля\n",
       "7    Канал 8    Оптовая торговля\n",
       "8    Канал 9    Оптовая торговля\n",
       "9   Канал 10    Оптовая торговля\n",
       "10  Канал 11    Оптовая торговля\n",
       "11  Канал 12    Оптовая торговля\n",
       "12  Канал 13    Оптовая торговля"
      ]
     },
     "execution_count": 23,
     "metadata": {},
     "output_type": "execute_result"
    }
   ],
   "source": [
    "data_mapping"
   ]
  },
  {
   "cell_type": "code",
   "execution_count": null,
   "metadata": {},
   "outputs": [],
   "source": []
  },
  {
   "cell_type": "code",
   "execution_count": null,
   "metadata": {},
   "outputs": [],
   "source": []
  },
  {
   "cell_type": "code",
   "execution_count": null,
   "metadata": {},
   "outputs": [],
   "source": []
  },
  {
   "cell_type": "code",
   "execution_count": null,
   "metadata": {},
   "outputs": [],
   "source": []
  }
 ],
 "metadata": {
  "kernelspec": {
   "display_name": "Python 3",
   "language": "python",
   "name": "python3"
  },
  "language_info": {
   "codemirror_mode": {
    "name": "ipython",
    "version": 3
   },
   "file_extension": ".py",
   "mimetype": "text/x-python",
   "name": "python",
   "nbconvert_exporter": "python",
   "pygments_lexer": "ipython3",
   "version": "3.8.5"
  }
 },
 "nbformat": 4,
 "nbformat_minor": 4
}
