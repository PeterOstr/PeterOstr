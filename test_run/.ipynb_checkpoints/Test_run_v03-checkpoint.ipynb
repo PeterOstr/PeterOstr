{
 "cells": [
  {
   "cell_type": "code",
   "execution_count": 1,
   "metadata": {},
   "outputs": [],
   "source": [
    "import pandas as pd\n",
    "import numpy as np\n",
    "from sklearn.model_selection import train_test_split\n",
    "from sklearn.linear_model import LinearRegression\n",
    "from sklearn.metrics import mean_squared_error, r2_score, mean_absolute_percentage_error\n",
    "import matplotlib.pyplot as plt\n",
    "import seaborn as sns\n",
    "from sklearn.metrics import (roc_auc_score, recall_score, f1_score, precision_score,\n",
    "                            accuracy_score)\n",
    "\n"
   ]
  },
  {
   "cell_type": "markdown",
   "metadata": {},
   "source": [
    "Есть продажи некоторых продуктов по дням отдельно в каждый канал продаж (Shipments_by_PO.csv) на период с января 17 по июнь 18. Также указано, с какой скидкой был продан продукт. Продажи могут быть не во все дни.\n",
    "  * Есть привязка каждого канала продаж к т.н. направлению продаж – оптовая или розничная торговля (Mapping.csv)\n",
    "  * Есть прогноз, с какой скидкой будут продаваться продукты в июле-августе 18 (Forecast_of_discounts.xlsx). Если продукта/направления нет в файле, значит скидка – 0%\n",
    "  * Нужно построить прогноз продаж на июль-сентябрь 18 с помощью простейшего алгоритма – линейной регрессии.\n",
    "  * Регрессию нужно построить по каждой комбинации продукт-направление отдельно, учитывая номер месяца, года и размер скидки. Номер месяца нужно преобразовать с помощью One-Hot Encoding.\n",
    "  * Прогноз нужен на уровне месяца, продукта и направления продаж, соответственно, все данные нужно сначала преобразовать на данный уровень с помощью Pandas."
   ]
  },
  {
   "cell_type": "code",
   "execution_count": 2,
   "metadata": {},
   "outputs": [],
   "source": [
    "data_shipments = pd.read_csv('C:/Users/Peter/Documents/GitHub/PeterOstr/test_run/Shipments_by_PO.csv')\n",
    "data_mapping = pd.read_csv('C:/Users/Peter/Documents/GitHub/PeterOstr/test_run/Mapping.csv')\n",
    "data_forecast = pd.read_excel('C:/Users/Peter/Documents/GitHub/PeterOstr/test_run/Forecast_of_discounts.xlsx')\n"
   ]
  },
  {
   "cell_type": "code",
   "execution_count": 3,
   "metadata": {},
   "outputs": [
    {
     "data": {
      "text/html": [
       "<div>\n",
       "<style scoped>\n",
       "    .dataframe tbody tr th:only-of-type {\n",
       "        vertical-align: middle;\n",
       "    }\n",
       "\n",
       "    .dataframe tbody tr th {\n",
       "        vertical-align: top;\n",
       "    }\n",
       "\n",
       "    .dataframe thead th {\n",
       "        text-align: right;\n",
       "    }\n",
       "</style>\n",
       "<table border=\"1\" class=\"dataframe\">\n",
       "  <thead>\n",
       "    <tr style=\"text-align: right;\">\n",
       "      <th></th>\n",
       "      <th>Код товара</th>\n",
       "      <th>Направление продаж</th>\n",
       "      <th>Month</th>\n",
       "      <th>Year</th>\n",
       "      <th>Скидка</th>\n",
       "    </tr>\n",
       "  </thead>\n",
       "  <tbody>\n",
       "    <tr>\n",
       "      <th>0</th>\n",
       "      <td>SKU_0001</td>\n",
       "      <td>Розничная торговля</td>\n",
       "      <td>7</td>\n",
       "      <td>2018</td>\n",
       "      <td>10.000000</td>\n",
       "    </tr>\n",
       "    <tr>\n",
       "      <th>1</th>\n",
       "      <td>SKU_0002</td>\n",
       "      <td>Оптовая торговля</td>\n",
       "      <td>7</td>\n",
       "      <td>2018</td>\n",
       "      <td>7.400000</td>\n",
       "    </tr>\n",
       "    <tr>\n",
       "      <th>2</th>\n",
       "      <td>SKU_0004</td>\n",
       "      <td>Розничная торговля</td>\n",
       "      <td>8</td>\n",
       "      <td>2018</td>\n",
       "      <td>15.500000</td>\n",
       "    </tr>\n",
       "    <tr>\n",
       "      <th>3</th>\n",
       "      <td>SKU_0005</td>\n",
       "      <td>Оптовая торговля</td>\n",
       "      <td>9</td>\n",
       "      <td>2018</td>\n",
       "      <td>10.857143</td>\n",
       "    </tr>\n",
       "    <tr>\n",
       "      <th>4</th>\n",
       "      <td>SKU_0006</td>\n",
       "      <td>Оптовая торговля</td>\n",
       "      <td>7</td>\n",
       "      <td>2018</td>\n",
       "      <td>12.500000</td>\n",
       "    </tr>\n",
       "    <tr>\n",
       "      <th>...</th>\n",
       "      <td>...</td>\n",
       "      <td>...</td>\n",
       "      <td>...</td>\n",
       "      <td>...</td>\n",
       "      <td>...</td>\n",
       "    </tr>\n",
       "    <tr>\n",
       "      <th>1100</th>\n",
       "      <td>SKU_0654</td>\n",
       "      <td>Розничная торговля</td>\n",
       "      <td>7</td>\n",
       "      <td>2018</td>\n",
       "      <td>15.000000</td>\n",
       "    </tr>\n",
       "    <tr>\n",
       "      <th>1101</th>\n",
       "      <td>SKU_0654</td>\n",
       "      <td>Розничная торговля</td>\n",
       "      <td>9</td>\n",
       "      <td>2018</td>\n",
       "      <td>4.500000</td>\n",
       "    </tr>\n",
       "    <tr>\n",
       "      <th>1102</th>\n",
       "      <td>SKU_0656</td>\n",
       "      <td>Розничная торговля</td>\n",
       "      <td>8</td>\n",
       "      <td>2018</td>\n",
       "      <td>12.000000</td>\n",
       "    </tr>\n",
       "    <tr>\n",
       "      <th>1103</th>\n",
       "      <td>SKU_0657</td>\n",
       "      <td>Оптовая торговля</td>\n",
       "      <td>7</td>\n",
       "      <td>2018</td>\n",
       "      <td>14.428571</td>\n",
       "    </tr>\n",
       "    <tr>\n",
       "      <th>1104</th>\n",
       "      <td>SKU_0657</td>\n",
       "      <td>Розничная торговля</td>\n",
       "      <td>7</td>\n",
       "      <td>2018</td>\n",
       "      <td>7.000000</td>\n",
       "    </tr>\n",
       "  </tbody>\n",
       "</table>\n",
       "<p>1105 rows × 5 columns</p>\n",
       "</div>"
      ],
      "text/plain": [
       "     Код товара  Направление продаж  Month  Year     Скидка\n",
       "0      SKU_0001  Розничная торговля      7  2018  10.000000\n",
       "1      SKU_0002    Оптовая торговля      7  2018   7.400000\n",
       "2      SKU_0004  Розничная торговля      8  2018  15.500000\n",
       "3      SKU_0005    Оптовая торговля      9  2018  10.857143\n",
       "4      SKU_0006    Оптовая торговля      7  2018  12.500000\n",
       "...         ...                 ...    ...   ...        ...\n",
       "1100   SKU_0654  Розничная торговля      7  2018  15.000000\n",
       "1101   SKU_0654  Розничная торговля      9  2018   4.500000\n",
       "1102   SKU_0656  Розничная торговля      8  2018  12.000000\n",
       "1103   SKU_0657    Оптовая торговля      7  2018  14.428571\n",
       "1104   SKU_0657  Розничная торговля      7  2018   7.000000\n",
       "\n",
       "[1105 rows x 5 columns]"
      ]
     },
     "execution_count": 3,
     "metadata": {},
     "output_type": "execute_result"
    }
   ],
   "source": [
    "data_forecast"
   ]
  },
  {
   "cell_type": "code",
   "execution_count": 4,
   "metadata": {},
   "outputs": [
    {
     "data": {
      "text/plain": [
       "573"
      ]
     },
     "execution_count": 4,
     "metadata": {},
     "output_type": "execute_result"
    }
   ],
   "source": [
    "a = data_forecast['Код товара'].value_counts()\n",
    "len(a)"
   ]
  },
  {
   "cell_type": "code",
   "execution_count": 5,
   "metadata": {},
   "outputs": [
    {
     "data": {
      "text/plain": [
       "{'Код товара': 0, 'Направление продаж': 0, 'Month': 0, 'Year': 0, 'Скидка': 0}"
      ]
     },
     "execution_count": 5,
     "metadata": {},
     "output_type": "execute_result"
    }
   ],
   "source": [
    "#проверим на наличие пропусков\n",
    "{key:data_forecast[key].isna().sum() for key in data_forecast.columns}\n"
   ]
  },
  {
   "cell_type": "code",
   "execution_count": 6,
   "metadata": {},
   "outputs": [
    {
     "data": {
      "text/plain": [
       "{'Код товара': 0,\n",
       " 'Канал': 0,\n",
       " 'Дата накладной': 0,\n",
       " 'Продажи, шт': 0,\n",
       " 'скидка': 0}"
      ]
     },
     "execution_count": 6,
     "metadata": {},
     "output_type": "execute_result"
    }
   ],
   "source": [
    "#проверим на наличие пропусков\n",
    "\n",
    "{key:data_shipments[key].isna().sum() for key in data_shipments.columns}\n"
   ]
  },
  {
   "cell_type": "code",
   "execution_count": 7,
   "metadata": {},
   "outputs": [
    {
     "data": {
      "text/html": [
       "<div>\n",
       "<style scoped>\n",
       "    .dataframe tbody tr th:only-of-type {\n",
       "        vertical-align: middle;\n",
       "    }\n",
       "\n",
       "    .dataframe tbody tr th {\n",
       "        vertical-align: top;\n",
       "    }\n",
       "\n",
       "    .dataframe thead th {\n",
       "        text-align: right;\n",
       "    }\n",
       "</style>\n",
       "<table border=\"1\" class=\"dataframe\">\n",
       "  <thead>\n",
       "    <tr style=\"text-align: right;\">\n",
       "      <th></th>\n",
       "      <th>Код товара</th>\n",
       "      <th>Канал</th>\n",
       "      <th>Дата накладной</th>\n",
       "      <th>Продажи, шт</th>\n",
       "      <th>скидка</th>\n",
       "      <th>Направление продаж</th>\n",
       "    </tr>\n",
       "  </thead>\n",
       "  <tbody>\n",
       "    <tr>\n",
       "      <th>0</th>\n",
       "      <td>299</td>\n",
       "      <td>Канал 1</td>\n",
       "      <td>06.01.2017</td>\n",
       "      <td>32</td>\n",
       "      <td>19</td>\n",
       "      <td>Розничная торговля</td>\n",
       "    </tr>\n",
       "    <tr>\n",
       "      <th>1</th>\n",
       "      <td>299</td>\n",
       "      <td>Канал 1</td>\n",
       "      <td>09.01.2017</td>\n",
       "      <td>59</td>\n",
       "      <td>19</td>\n",
       "      <td>Розничная торговля</td>\n",
       "    </tr>\n",
       "    <tr>\n",
       "      <th>2</th>\n",
       "      <td>299</td>\n",
       "      <td>Канал 1</td>\n",
       "      <td>10.01.2017</td>\n",
       "      <td>22</td>\n",
       "      <td>2</td>\n",
       "      <td>Розничная торговля</td>\n",
       "    </tr>\n",
       "    <tr>\n",
       "      <th>3</th>\n",
       "      <td>299</td>\n",
       "      <td>Канал 1</td>\n",
       "      <td>11.01.2017</td>\n",
       "      <td>35</td>\n",
       "      <td>10</td>\n",
       "      <td>Розничная торговля</td>\n",
       "    </tr>\n",
       "    <tr>\n",
       "      <th>4</th>\n",
       "      <td>299</td>\n",
       "      <td>Канал 1</td>\n",
       "      <td>12.01.2017</td>\n",
       "      <td>55</td>\n",
       "      <td>4</td>\n",
       "      <td>Розничная торговля</td>\n",
       "    </tr>\n",
       "    <tr>\n",
       "      <th>...</th>\n",
       "      <td>...</td>\n",
       "      <td>...</td>\n",
       "      <td>...</td>\n",
       "      <td>...</td>\n",
       "      <td>...</td>\n",
       "      <td>...</td>\n",
       "    </tr>\n",
       "    <tr>\n",
       "      <th>808089</th>\n",
       "      <td>311</td>\n",
       "      <td>Канал 13</td>\n",
       "      <td>25.05.2018</td>\n",
       "      <td>63</td>\n",
       "      <td>2</td>\n",
       "      <td>Оптовая торговля</td>\n",
       "    </tr>\n",
       "    <tr>\n",
       "      <th>808090</th>\n",
       "      <td>311</td>\n",
       "      <td>Канал 13</td>\n",
       "      <td>05.06.2018</td>\n",
       "      <td>48</td>\n",
       "      <td>6</td>\n",
       "      <td>Оптовая торговля</td>\n",
       "    </tr>\n",
       "    <tr>\n",
       "      <th>808091</th>\n",
       "      <td>311</td>\n",
       "      <td>Канал 13</td>\n",
       "      <td>08.06.2018</td>\n",
       "      <td>68</td>\n",
       "      <td>6</td>\n",
       "      <td>Оптовая торговля</td>\n",
       "    </tr>\n",
       "    <tr>\n",
       "      <th>808092</th>\n",
       "      <td>311</td>\n",
       "      <td>Канал 13</td>\n",
       "      <td>20.06.2018</td>\n",
       "      <td>51</td>\n",
       "      <td>8</td>\n",
       "      <td>Оптовая торговля</td>\n",
       "    </tr>\n",
       "    <tr>\n",
       "      <th>808093</th>\n",
       "      <td>311</td>\n",
       "      <td>Канал 13</td>\n",
       "      <td>27.06.2018</td>\n",
       "      <td>52</td>\n",
       "      <td>5</td>\n",
       "      <td>Оптовая торговля</td>\n",
       "    </tr>\n",
       "  </tbody>\n",
       "</table>\n",
       "<p>808094 rows × 6 columns</p>\n",
       "</div>"
      ],
      "text/plain": [
       "        Код товара     Канал Дата накладной  Продажи, шт  скидка  \\\n",
       "0              299   Канал 1     06.01.2017           32      19   \n",
       "1              299   Канал 1     09.01.2017           59      19   \n",
       "2              299   Канал 1     10.01.2017           22       2   \n",
       "3              299   Канал 1     11.01.2017           35      10   \n",
       "4              299   Канал 1     12.01.2017           55       4   \n",
       "...            ...       ...            ...          ...     ...   \n",
       "808089         311  Канал 13     25.05.2018           63       2   \n",
       "808090         311  Канал 13     05.06.2018           48       6   \n",
       "808091         311  Канал 13     08.06.2018           68       6   \n",
       "808092         311  Канал 13     20.06.2018           51       8   \n",
       "808093         311  Канал 13     27.06.2018           52       5   \n",
       "\n",
       "        Направление продаж  \n",
       "0       Розничная торговля  \n",
       "1       Розничная торговля  \n",
       "2       Розничная торговля  \n",
       "3       Розничная торговля  \n",
       "4       Розничная торговля  \n",
       "...                    ...  \n",
       "808089    Оптовая торговля  \n",
       "808090    Оптовая торговля  \n",
       "808091    Оптовая торговля  \n",
       "808092    Оптовая торговля  \n",
       "808093    Оптовая торговля  \n",
       "\n",
       "[808094 rows x 6 columns]"
      ]
     },
     "execution_count": 7,
     "metadata": {},
     "output_type": "execute_result"
    }
   ],
   "source": [
    "#добавил столбец направление продаж\n",
    "\n",
    "data = data_shipments.copy()\n",
    "data = pd.merge(data, data_mapping, on='Канал', how='left')\n",
    "data"
   ]
  },
  {
   "cell_type": "code",
   "execution_count": 8,
   "metadata": {},
   "outputs": [],
   "source": [
    "# заменим направлени продаж для удобства цифрами\n",
    "\n",
    "data[\"Направление продаж\"].replace({\"Розничная торговля\": \"01\",\n",
    "                      \"Оптовая торговля\": \"02\"}, inplace=True)"
   ]
  },
  {
   "cell_type": "code",
   "execution_count": 9,
   "metadata": {},
   "outputs": [],
   "source": [
    "# разобьем дату на отдельные элементы\n",
    "\n",
    "data[[\"day\", \"month\", \"year\"]] = data[\"Дата накладной\"].str.split(\".\", expand = True)\n",
    "\n",
    "data.drop([\"day\",'Дата накладной'], axis=1, inplace=True)\n"
   ]
  },
  {
   "cell_type": "code",
   "execution_count": 10,
   "metadata": {},
   "outputs": [
    {
     "data": {
      "text/html": [
       "<div>\n",
       "<style scoped>\n",
       "    .dataframe tbody tr th:only-of-type {\n",
       "        vertical-align: middle;\n",
       "    }\n",
       "\n",
       "    .dataframe tbody tr th {\n",
       "        vertical-align: top;\n",
       "    }\n",
       "\n",
       "    .dataframe thead th {\n",
       "        text-align: right;\n",
       "    }\n",
       "</style>\n",
       "<table border=\"1\" class=\"dataframe\">\n",
       "  <thead>\n",
       "    <tr style=\"text-align: right;\">\n",
       "      <th></th>\n",
       "      <th>Код товара</th>\n",
       "      <th>Канал</th>\n",
       "      <th>Продажи, шт</th>\n",
       "      <th>скидка</th>\n",
       "      <th>Направление продаж</th>\n",
       "      <th>month</th>\n",
       "      <th>year</th>\n",
       "      <th>code_sales</th>\n",
       "    </tr>\n",
       "  </thead>\n",
       "  <tbody>\n",
       "    <tr>\n",
       "      <th>0</th>\n",
       "      <td>299</td>\n",
       "      <td>Канал 1</td>\n",
       "      <td>32</td>\n",
       "      <td>19</td>\n",
       "      <td>01</td>\n",
       "      <td>01</td>\n",
       "      <td>2017</td>\n",
       "      <td>29901</td>\n",
       "    </tr>\n",
       "    <tr>\n",
       "      <th>1</th>\n",
       "      <td>299</td>\n",
       "      <td>Канал 1</td>\n",
       "      <td>59</td>\n",
       "      <td>19</td>\n",
       "      <td>01</td>\n",
       "      <td>01</td>\n",
       "      <td>2017</td>\n",
       "      <td>29901</td>\n",
       "    </tr>\n",
       "    <tr>\n",
       "      <th>2</th>\n",
       "      <td>299</td>\n",
       "      <td>Канал 1</td>\n",
       "      <td>22</td>\n",
       "      <td>2</td>\n",
       "      <td>01</td>\n",
       "      <td>01</td>\n",
       "      <td>2017</td>\n",
       "      <td>29901</td>\n",
       "    </tr>\n",
       "    <tr>\n",
       "      <th>3</th>\n",
       "      <td>299</td>\n",
       "      <td>Канал 1</td>\n",
       "      <td>35</td>\n",
       "      <td>10</td>\n",
       "      <td>01</td>\n",
       "      <td>01</td>\n",
       "      <td>2017</td>\n",
       "      <td>29901</td>\n",
       "    </tr>\n",
       "    <tr>\n",
       "      <th>4</th>\n",
       "      <td>299</td>\n",
       "      <td>Канал 1</td>\n",
       "      <td>55</td>\n",
       "      <td>4</td>\n",
       "      <td>01</td>\n",
       "      <td>01</td>\n",
       "      <td>2017</td>\n",
       "      <td>29901</td>\n",
       "    </tr>\n",
       "    <tr>\n",
       "      <th>...</th>\n",
       "      <td>...</td>\n",
       "      <td>...</td>\n",
       "      <td>...</td>\n",
       "      <td>...</td>\n",
       "      <td>...</td>\n",
       "      <td>...</td>\n",
       "      <td>...</td>\n",
       "      <td>...</td>\n",
       "    </tr>\n",
       "    <tr>\n",
       "      <th>808089</th>\n",
       "      <td>311</td>\n",
       "      <td>Канал 13</td>\n",
       "      <td>63</td>\n",
       "      <td>2</td>\n",
       "      <td>02</td>\n",
       "      <td>05</td>\n",
       "      <td>2018</td>\n",
       "      <td>31102</td>\n",
       "    </tr>\n",
       "    <tr>\n",
       "      <th>808090</th>\n",
       "      <td>311</td>\n",
       "      <td>Канал 13</td>\n",
       "      <td>48</td>\n",
       "      <td>6</td>\n",
       "      <td>02</td>\n",
       "      <td>06</td>\n",
       "      <td>2018</td>\n",
       "      <td>31102</td>\n",
       "    </tr>\n",
       "    <tr>\n",
       "      <th>808091</th>\n",
       "      <td>311</td>\n",
       "      <td>Канал 13</td>\n",
       "      <td>68</td>\n",
       "      <td>6</td>\n",
       "      <td>02</td>\n",
       "      <td>06</td>\n",
       "      <td>2018</td>\n",
       "      <td>31102</td>\n",
       "    </tr>\n",
       "    <tr>\n",
       "      <th>808092</th>\n",
       "      <td>311</td>\n",
       "      <td>Канал 13</td>\n",
       "      <td>51</td>\n",
       "      <td>8</td>\n",
       "      <td>02</td>\n",
       "      <td>06</td>\n",
       "      <td>2018</td>\n",
       "      <td>31102</td>\n",
       "    </tr>\n",
       "    <tr>\n",
       "      <th>808093</th>\n",
       "      <td>311</td>\n",
       "      <td>Канал 13</td>\n",
       "      <td>52</td>\n",
       "      <td>5</td>\n",
       "      <td>02</td>\n",
       "      <td>06</td>\n",
       "      <td>2018</td>\n",
       "      <td>31102</td>\n",
       "    </tr>\n",
       "  </tbody>\n",
       "</table>\n",
       "<p>808094 rows × 8 columns</p>\n",
       "</div>"
      ],
      "text/plain": [
       "        Код товара     Канал  Продажи, шт  скидка Направление продаж month  \\\n",
       "0              299   Канал 1           32      19                 01    01   \n",
       "1              299   Канал 1           59      19                 01    01   \n",
       "2              299   Канал 1           22       2                 01    01   \n",
       "3              299   Канал 1           35      10                 01    01   \n",
       "4              299   Канал 1           55       4                 01    01   \n",
       "...            ...       ...          ...     ...                ...   ...   \n",
       "808089         311  Канал 13           63       2                 02    05   \n",
       "808090         311  Канал 13           48       6                 02    06   \n",
       "808091         311  Канал 13           68       6                 02    06   \n",
       "808092         311  Канал 13           51       8                 02    06   \n",
       "808093         311  Канал 13           52       5                 02    06   \n",
       "\n",
       "        year code_sales  \n",
       "0       2017      29901  \n",
       "1       2017      29901  \n",
       "2       2017      29901  \n",
       "3       2017      29901  \n",
       "4       2017      29901  \n",
       "...      ...        ...  \n",
       "808089  2018      31102  \n",
       "808090  2018      31102  \n",
       "808091  2018      31102  \n",
       "808092  2018      31102  \n",
       "808093  2018      31102  \n",
       "\n",
       "[808094 rows x 8 columns]"
      ]
     },
     "execution_count": 10,
     "metadata": {},
     "output_type": "execute_result"
    }
   ],
   "source": [
    "# создадим новую кодировку позиции - код товара+направление продаж, чтобы сагрегировать потом продажи\n",
    "# в рамках месяца\n",
    "\n",
    "data['code_sales'] = data['Код товара'].astype(str) + data['Направление продаж']\n",
    "\n",
    "data"
   ]
  },
  {
   "cell_type": "code",
   "execution_count": 11,
   "metadata": {},
   "outputs": [
    {
     "data": {
      "text/html": [
       "<div>\n",
       "<style scoped>\n",
       "    .dataframe tbody tr th:only-of-type {\n",
       "        vertical-align: middle;\n",
       "    }\n",
       "\n",
       "    .dataframe tbody tr th {\n",
       "        vertical-align: top;\n",
       "    }\n",
       "\n",
       "    .dataframe thead th {\n",
       "        text-align: right;\n",
       "    }\n",
       "</style>\n",
       "<table border=\"1\" class=\"dataframe\">\n",
       "  <thead>\n",
       "    <tr style=\"text-align: right;\">\n",
       "      <th></th>\n",
       "      <th>Продажи, шт</th>\n",
       "      <th>скидка</th>\n",
       "      <th>month</th>\n",
       "      <th>year</th>\n",
       "      <th>code_sales</th>\n",
       "    </tr>\n",
       "  </thead>\n",
       "  <tbody>\n",
       "    <tr>\n",
       "      <th>0</th>\n",
       "      <td>32</td>\n",
       "      <td>19</td>\n",
       "      <td>01</td>\n",
       "      <td>2017</td>\n",
       "      <td>29901</td>\n",
       "    </tr>\n",
       "    <tr>\n",
       "      <th>1</th>\n",
       "      <td>59</td>\n",
       "      <td>19</td>\n",
       "      <td>01</td>\n",
       "      <td>2017</td>\n",
       "      <td>29901</td>\n",
       "    </tr>\n",
       "    <tr>\n",
       "      <th>2</th>\n",
       "      <td>22</td>\n",
       "      <td>2</td>\n",
       "      <td>01</td>\n",
       "      <td>2017</td>\n",
       "      <td>29901</td>\n",
       "    </tr>\n",
       "    <tr>\n",
       "      <th>3</th>\n",
       "      <td>35</td>\n",
       "      <td>10</td>\n",
       "      <td>01</td>\n",
       "      <td>2017</td>\n",
       "      <td>29901</td>\n",
       "    </tr>\n",
       "    <tr>\n",
       "      <th>4</th>\n",
       "      <td>55</td>\n",
       "      <td>4</td>\n",
       "      <td>01</td>\n",
       "      <td>2017</td>\n",
       "      <td>29901</td>\n",
       "    </tr>\n",
       "    <tr>\n",
       "      <th>...</th>\n",
       "      <td>...</td>\n",
       "      <td>...</td>\n",
       "      <td>...</td>\n",
       "      <td>...</td>\n",
       "      <td>...</td>\n",
       "    </tr>\n",
       "    <tr>\n",
       "      <th>808089</th>\n",
       "      <td>63</td>\n",
       "      <td>2</td>\n",
       "      <td>05</td>\n",
       "      <td>2018</td>\n",
       "      <td>31102</td>\n",
       "    </tr>\n",
       "    <tr>\n",
       "      <th>808090</th>\n",
       "      <td>48</td>\n",
       "      <td>6</td>\n",
       "      <td>06</td>\n",
       "      <td>2018</td>\n",
       "      <td>31102</td>\n",
       "    </tr>\n",
       "    <tr>\n",
       "      <th>808091</th>\n",
       "      <td>68</td>\n",
       "      <td>6</td>\n",
       "      <td>06</td>\n",
       "      <td>2018</td>\n",
       "      <td>31102</td>\n",
       "    </tr>\n",
       "    <tr>\n",
       "      <th>808092</th>\n",
       "      <td>51</td>\n",
       "      <td>8</td>\n",
       "      <td>06</td>\n",
       "      <td>2018</td>\n",
       "      <td>31102</td>\n",
       "    </tr>\n",
       "    <tr>\n",
       "      <th>808093</th>\n",
       "      <td>52</td>\n",
       "      <td>5</td>\n",
       "      <td>06</td>\n",
       "      <td>2018</td>\n",
       "      <td>31102</td>\n",
       "    </tr>\n",
       "  </tbody>\n",
       "</table>\n",
       "<p>808094 rows × 5 columns</p>\n",
       "</div>"
      ],
      "text/plain": [
       "        Продажи, шт  скидка month  year code_sales\n",
       "0                32      19    01  2017      29901\n",
       "1                59      19    01  2017      29901\n",
       "2                22       2    01  2017      29901\n",
       "3                35      10    01  2017      29901\n",
       "4                55       4    01  2017      29901\n",
       "...             ...     ...   ...   ...        ...\n",
       "808089           63       2    05  2018      31102\n",
       "808090           48       6    06  2018      31102\n",
       "808091           68       6    06  2018      31102\n",
       "808092           51       8    06  2018      31102\n",
       "808093           52       5    06  2018      31102\n",
       "\n",
       "[808094 rows x 5 columns]"
      ]
     },
     "execution_count": 11,
     "metadata": {},
     "output_type": "execute_result"
    }
   ],
   "source": [
    "# удалим лишнее\n",
    "\n",
    "data.drop([\"Код товара\",'Канал','Направление продаж'], axis=1, inplace=True)\n",
    "data"
   ]
  },
  {
   "cell_type": "code",
   "execution_count": 12,
   "metadata": {},
   "outputs": [
    {
     "data": {
      "text/html": [
       "<div>\n",
       "<style scoped>\n",
       "    .dataframe tbody tr th:only-of-type {\n",
       "        vertical-align: middle;\n",
       "    }\n",
       "\n",
       "    .dataframe tbody tr th {\n",
       "        vertical-align: top;\n",
       "    }\n",
       "\n",
       "    .dataframe thead th {\n",
       "        text-align: right;\n",
       "    }\n",
       "</style>\n",
       "<table border=\"1\" class=\"dataframe\">\n",
       "  <thead>\n",
       "    <tr style=\"text-align: right;\">\n",
       "      <th></th>\n",
       "      <th>code_sales</th>\n",
       "      <th>year</th>\n",
       "      <th>month</th>\n",
       "      <th>скидка</th>\n",
       "      <th>Продажи, шт</th>\n",
       "    </tr>\n",
       "  </thead>\n",
       "  <tbody>\n",
       "    <tr>\n",
       "      <th>0</th>\n",
       "      <td>10001</td>\n",
       "      <td>2017</td>\n",
       "      <td>01</td>\n",
       "      <td>0</td>\n",
       "      <td>117</td>\n",
       "    </tr>\n",
       "    <tr>\n",
       "      <th>1</th>\n",
       "      <td>10001</td>\n",
       "      <td>2017</td>\n",
       "      <td>01</td>\n",
       "      <td>4</td>\n",
       "      <td>54</td>\n",
       "    </tr>\n",
       "    <tr>\n",
       "      <th>2</th>\n",
       "      <td>10001</td>\n",
       "      <td>2017</td>\n",
       "      <td>01</td>\n",
       "      <td>6</td>\n",
       "      <td>35</td>\n",
       "    </tr>\n",
       "    <tr>\n",
       "      <th>3</th>\n",
       "      <td>10001</td>\n",
       "      <td>2017</td>\n",
       "      <td>01</td>\n",
       "      <td>11</td>\n",
       "      <td>123</td>\n",
       "    </tr>\n",
       "    <tr>\n",
       "      <th>4</th>\n",
       "      <td>10001</td>\n",
       "      <td>2017</td>\n",
       "      <td>01</td>\n",
       "      <td>12</td>\n",
       "      <td>28</td>\n",
       "    </tr>\n",
       "    <tr>\n",
       "      <th>...</th>\n",
       "      <td>...</td>\n",
       "      <td>...</td>\n",
       "      <td>...</td>\n",
       "      <td>...</td>\n",
       "      <td>...</td>\n",
       "    </tr>\n",
       "    <tr>\n",
       "      <th>313863</th>\n",
       "      <td>9902</td>\n",
       "      <td>2018</td>\n",
       "      <td>06</td>\n",
       "      <td>1</td>\n",
       "      <td>94</td>\n",
       "    </tr>\n",
       "    <tr>\n",
       "      <th>313864</th>\n",
       "      <td>9902</td>\n",
       "      <td>2018</td>\n",
       "      <td>06</td>\n",
       "      <td>2</td>\n",
       "      <td>113</td>\n",
       "    </tr>\n",
       "    <tr>\n",
       "      <th>313865</th>\n",
       "      <td>9902</td>\n",
       "      <td>2018</td>\n",
       "      <td>06</td>\n",
       "      <td>3</td>\n",
       "      <td>95</td>\n",
       "    </tr>\n",
       "    <tr>\n",
       "      <th>313866</th>\n",
       "      <td>9902</td>\n",
       "      <td>2018</td>\n",
       "      <td>06</td>\n",
       "      <td>5</td>\n",
       "      <td>53</td>\n",
       "    </tr>\n",
       "    <tr>\n",
       "      <th>313867</th>\n",
       "      <td>9902</td>\n",
       "      <td>2018</td>\n",
       "      <td>06</td>\n",
       "      <td>13</td>\n",
       "      <td>68</td>\n",
       "    </tr>\n",
       "  </tbody>\n",
       "</table>\n",
       "<p>313868 rows × 5 columns</p>\n",
       "</div>"
      ],
      "text/plain": [
       "       code_sales  year month  скидка  Продажи, шт\n",
       "0           10001  2017    01       0          117\n",
       "1           10001  2017    01       4           54\n",
       "2           10001  2017    01       6           35\n",
       "3           10001  2017    01      11          123\n",
       "4           10001  2017    01      12           28\n",
       "...           ...   ...   ...     ...          ...\n",
       "313863       9902  2018    06       1           94\n",
       "313864       9902  2018    06       2          113\n",
       "313865       9902  2018    06       3           95\n",
       "313866       9902  2018    06       5           53\n",
       "313867       9902  2018    06      13           68\n",
       "\n",
       "[313868 rows x 5 columns]"
      ]
     },
     "execution_count": 12,
     "metadata": {},
     "output_type": "execute_result"
    }
   ],
   "source": [
    "# агрегируем по продажам в рамках месяца\n",
    "\n",
    "data_new = data.groupby(['code_sales','year','month','скидка']).sum()\n",
    "data_new = data_new.reset_index()\n",
    "data_new"
   ]
  },
  {
   "cell_type": "code",
   "execution_count": 13,
   "metadata": {},
   "outputs": [],
   "source": [
    "data_new['code_sales'] = data_new['code_sales'].astype(int)"
   ]
  },
  {
   "cell_type": "code",
   "execution_count": 14,
   "metadata": {},
   "outputs": [
    {
     "data": {
      "text/plain": [
       "LinearRegression()"
      ]
     },
     "execution_count": 14,
     "metadata": {},
     "output_type": "execute_result"
    }
   ],
   "source": [
    "# попробуем в лоб применить линейную регрессию к датасету, бьем на признаки и целевую переменную\n",
    "y = data_new['Продажи, шт']\n",
    "X = data_new.drop(['Продажи, шт'], axis=1)\n",
    "\n",
    "# также выделим часть данных для проверки качества модели \n",
    "X_train, X_holdout, y_train, y_holdout = train_test_split(X, y, test_size=0.3,shuffle=False)\n",
    "\n",
    "model_all = LinearRegression()\n",
    "model_all.fit(X_train, y_train)"
   ]
  },
  {
   "cell_type": "markdown",
   "metadata": {},
   "source": [
    "EDA - посмотреть данные в динамике, построить графики, посмотреть как меняется"
   ]
  },
  {
   "cell_type": "code",
   "execution_count": 15,
   "metadata": {},
   "outputs": [
    {
     "data": {
      "text/plain": [
       "1292"
      ]
     },
     "execution_count": 15,
     "metadata": {},
     "output_type": "execute_result"
    }
   ],
   "source": [
    "data_new['code_sales'].nunique()"
   ]
  },
  {
   "cell_type": "code",
   "execution_count": 16,
   "metadata": {},
   "outputs": [
    {
     "data": {
      "text/html": [
       "<div>\n",
       "<style scoped>\n",
       "    .dataframe tbody tr th:only-of-type {\n",
       "        vertical-align: middle;\n",
       "    }\n",
       "\n",
       "    .dataframe tbody tr th {\n",
       "        vertical-align: top;\n",
       "    }\n",
       "\n",
       "    .dataframe thead th {\n",
       "        text-align: right;\n",
       "    }\n",
       "</style>\n",
       "<table border=\"1\" class=\"dataframe\">\n",
       "  <thead>\n",
       "    <tr style=\"text-align: right;\">\n",
       "      <th></th>\n",
       "      <th>code_sales</th>\n",
       "      <th>year</th>\n",
       "      <th>month</th>\n",
       "      <th>скидка</th>\n",
       "    </tr>\n",
       "  </thead>\n",
       "  <tbody>\n",
       "    <tr>\n",
       "      <th>219707</th>\n",
       "      <td>5102</td>\n",
       "      <td>2018</td>\n",
       "      <td>01</td>\n",
       "      <td>4</td>\n",
       "    </tr>\n",
       "    <tr>\n",
       "      <th>219708</th>\n",
       "      <td>5102</td>\n",
       "      <td>2018</td>\n",
       "      <td>01</td>\n",
       "      <td>5</td>\n",
       "    </tr>\n",
       "    <tr>\n",
       "      <th>219709</th>\n",
       "      <td>5102</td>\n",
       "      <td>2018</td>\n",
       "      <td>01</td>\n",
       "      <td>6</td>\n",
       "    </tr>\n",
       "    <tr>\n",
       "      <th>219710</th>\n",
       "      <td>5102</td>\n",
       "      <td>2018</td>\n",
       "      <td>01</td>\n",
       "      <td>7</td>\n",
       "    </tr>\n",
       "    <tr>\n",
       "      <th>219711</th>\n",
       "      <td>5102</td>\n",
       "      <td>2018</td>\n",
       "      <td>01</td>\n",
       "      <td>8</td>\n",
       "    </tr>\n",
       "    <tr>\n",
       "      <th>...</th>\n",
       "      <td>...</td>\n",
       "      <td>...</td>\n",
       "      <td>...</td>\n",
       "      <td>...</td>\n",
       "    </tr>\n",
       "    <tr>\n",
       "      <th>313863</th>\n",
       "      <td>9902</td>\n",
       "      <td>2018</td>\n",
       "      <td>06</td>\n",
       "      <td>1</td>\n",
       "    </tr>\n",
       "    <tr>\n",
       "      <th>313864</th>\n",
       "      <td>9902</td>\n",
       "      <td>2018</td>\n",
       "      <td>06</td>\n",
       "      <td>2</td>\n",
       "    </tr>\n",
       "    <tr>\n",
       "      <th>313865</th>\n",
       "      <td>9902</td>\n",
       "      <td>2018</td>\n",
       "      <td>06</td>\n",
       "      <td>3</td>\n",
       "    </tr>\n",
       "    <tr>\n",
       "      <th>313866</th>\n",
       "      <td>9902</td>\n",
       "      <td>2018</td>\n",
       "      <td>06</td>\n",
       "      <td>5</td>\n",
       "    </tr>\n",
       "    <tr>\n",
       "      <th>313867</th>\n",
       "      <td>9902</td>\n",
       "      <td>2018</td>\n",
       "      <td>06</td>\n",
       "      <td>13</td>\n",
       "    </tr>\n",
       "  </tbody>\n",
       "</table>\n",
       "<p>94161 rows × 4 columns</p>\n",
       "</div>"
      ],
      "text/plain": [
       "        code_sales  year month  скидка\n",
       "219707        5102  2018    01       4\n",
       "219708        5102  2018    01       5\n",
       "219709        5102  2018    01       6\n",
       "219710        5102  2018    01       7\n",
       "219711        5102  2018    01       8\n",
       "...            ...   ...   ...     ...\n",
       "313863        9902  2018    06       1\n",
       "313864        9902  2018    06       2\n",
       "313865        9902  2018    06       3\n",
       "313866        9902  2018    06       5\n",
       "313867        9902  2018    06      13\n",
       "\n",
       "[94161 rows x 4 columns]"
      ]
     },
     "execution_count": 16,
     "metadata": {},
     "output_type": "execute_result"
    }
   ],
   "source": [
    "X_holdout"
   ]
  },
  {
   "cell_type": "code",
   "execution_count": 17,
   "metadata": {},
   "outputs": [
    {
     "name": "stdout",
     "output_type": "stream",
     "text": [
      "r2_score: 0.010866508511682804\n",
      "mean_squared_error: 7113.125242548108\n",
      "mean_absolute_percentage_error: 0.8920089848986149\n"
     ]
    }
   ],
   "source": [
    "print ('r2_score:', r2_score(y_holdout, model_all.predict(X_holdout)))\n",
    "print ('mean_squared_error:',mean_squared_error(y_holdout, model_all.predict(X_holdout)))\n",
    "print ('mean_absolute_percentage_error:',mean_absolute_percentage_error(y_holdout, model_all.predict(X_holdout)))"
   ]
  },
  {
   "cell_type": "markdown",
   "metadata": {},
   "source": [
    "Видим по метрикам что получившаяся лин модель вообще не описывает зависимости:\n",
    "   * R2 метрика - лучший результат может быть 1, в нашем случае 0.012, это значит что модель не предсказывает вне зависимости от введенных данных\n",
    "   * mean_squared_error - среднеквадратичная ошибка, здесь легко понять насколько она большая сравнив значение продаж за месяц одного товара - порядок десятки-сотня и данное значение 7117.54\n",
    "   * mean_absolute_percentage_error - чем ниже тем лучше, у нас оно имеет очень большое значение, близкое к 1 (применять по идее эту метрику можем, потому что нулевых продаж нет за месяц. Если бы были, то эта метрика не подходит)\n",
    "  \n",
    "**Тогда может, попробовать построить лин регрессиую по одному наименованию, и тогда получим сносный результат?**"
   ]
  },
  {
   "cell_type": "code",
   "execution_count": 18,
   "metadata": {},
   "outputs": [
    {
     "data": {
      "text/plain": [
       "LinearRegression()"
      ]
     },
     "execution_count": 18,
     "metadata": {},
     "output_type": "execute_result"
    }
   ],
   "source": [
    "# возьмем из датасета данныe XY по 1 наименованию \n",
    "XY = data_new[data_new['code_sales'] == 10001]\n",
    "\n",
    "y = XY['Продажи, шт']\n",
    "X = XY.drop(['Продажи, шт'], axis=1)\n",
    "\n",
    "# также выделим часть данных для проверки качества модели \n",
    "X_train, X_holdout, y_train, y_holdout = train_test_split(X, y, test_size=0.3,shuffle=False)\n",
    "\n",
    "model_one = LinearRegression()\n",
    "model_one.fit(X_train, y_train)"
   ]
  },
  {
   "cell_type": "code",
   "execution_count": 19,
   "metadata": {},
   "outputs": [
    {
     "name": "stdout",
     "output_type": "stream",
     "text": [
      "r2_score: -0.7708838198720833\n",
      "mean_squared_error: 3142.0736275871004\n",
      "mean_absolute_percentage_error: 0.46970809220521376\n"
     ]
    }
   ],
   "source": [
    "print ('r2_score:', r2_score(y_holdout, model_one.predict(X_holdout)))\n",
    "print ('mean_squared_error:',mean_squared_error(y_holdout, model_one.predict(X_holdout)))\n",
    "print ('mean_absolute_percentage_error:',mean_absolute_percentage_error(y_holdout, model_one.predict(X_holdout)))"
   ]
  },
  {
   "cell_type": "markdown",
   "metadata": {},
   "source": [
    "Видим, что результаты немного лучше, но все равно у нас так и не получилось построить модель"
   ]
  },
  {
   "cell_type": "code",
   "execution_count": 20,
   "metadata": {},
   "outputs": [
    {
     "data": {
      "text/plain": [
       "0       0\n",
       "1       4\n",
       "2       6\n",
       "3      11\n",
       "4      12\n",
       "       ..\n",
       "207    12\n",
       "208    13\n",
       "209    16\n",
       "210    17\n",
       "211    18\n",
       "Name: скидка, Length: 212, dtype: int64"
      ]
     },
     "execution_count": 20,
     "metadata": {},
     "output_type": "execute_result"
    }
   ],
   "source": [
    "XY['скидка']"
   ]
  },
  {
   "cell_type": "code",
   "execution_count": 21,
   "metadata": {},
   "outputs": [
    {
     "name": "stdout",
     "output_type": "stream",
     "text": [
      "                            OLS Regression Results                            \n",
      "==============================================================================\n",
      "Dep. Variable:      XY['Продажи, шт']   R-squared:                       0.001\n",
      "Model:                            OLS   Adj. R-squared:                 -0.004\n",
      "Method:                 Least Squares   F-statistic:                    0.1504\n",
      "Date:                Thu, 17 Mar 2022   Prob (F-statistic):              0.699\n",
      "Time:                        20:29:37   Log-Likelihood:                -1092.5\n",
      "No. Observations:                 212   AIC:                             2189.\n",
      "Df Residuals:                     210   BIC:                             2196.\n",
      "Df Model:                           1                                         \n",
      "Covariance Type:            nonrobust                                         \n",
      "================================================================================\n",
      "                   coef    std err          t      P>|t|      [0.025      0.975]\n",
      "--------------------------------------------------------------------------------\n",
      "Intercept       74.2107      5.510     13.469      0.000      63.349      85.072\n",
      "XY['скидка']    -0.1943      0.501     -0.388      0.699      -1.182       0.793\n",
      "==============================================================================\n",
      "Omnibus:                       34.023   Durbin-Watson:                   2.144\n",
      "Prob(Omnibus):                  0.000   Jarque-Bera (JB):               45.198\n",
      "Skew:                           1.034   Prob(JB):                     1.53e-10\n",
      "Kurtosis:                       3.916   Cond. No.                         21.1\n",
      "==============================================================================\n",
      "\n",
      "Notes:\n",
      "[1] Standard Errors assume that the covariance matrix of the errors is correctly specified.\n"
     ]
    }
   ],
   "source": [
    "import statsmodels.api as sm\n",
    "import statsmodels.formula.api as smf\n",
    "# print(smf.ols(\"'Продажи, шт' ~ 'скидка'\", data = XY).fit().summary())\n",
    "print(smf.ols(\"XY['Продажи, шт'] ~ XY['скидка']\", data = XY).fit().summary())"
   ]
  },
  {
   "cell_type": "code",
   "execution_count": null,
   "metadata": {},
   "outputs": [],
   "source": []
  },
  {
   "cell_type": "code",
   "execution_count": 22,
   "metadata": {},
   "outputs": [],
   "source": [
    "import scipy as sp"
   ]
  },
  {
   "cell_type": "markdown",
   "metadata": {},
   "source": [
    "Степень свободы- количество наблюдений минус 1"
   ]
  },
  {
   "cell_type": "code",
   "execution_count": 23,
   "metadata": {},
   "outputs": [
    {
     "data": {
      "text/plain": [
       "-0.38782435129740517"
      ]
     },
     "execution_count": 23,
     "metadata": {},
     "output_type": "execute_result"
    }
   ],
   "source": [
    "#t value = coef/std err\n",
    "-0.1943/0.501"
   ]
  },
  {
   "cell_type": "code",
   "execution_count": 24,
   "metadata": {},
   "outputs": [
    {
     "data": {
      "text/plain": [
       "0.6985811640298047"
      ]
     },
     "execution_count": 24,
     "metadata": {},
     "output_type": "execute_result"
    }
   ],
   "source": [
    "(sp.stats.t.cdf(-0.388,df=146))*2"
   ]
  },
  {
   "cell_type": "code",
   "execution_count": 25,
   "metadata": {},
   "outputs": [
    {
     "name": "stderr",
     "output_type": "stream",
     "text": [
      "E:\\anaconda\\lib\\site-packages\\seaborn\\distributions.py:2551: FutureWarning: `distplot` is a deprecated function and will be removed in a future version. Please adapt your code to use either `displot` (a figure-level function with similar flexibility) or `histplot` (an axes-level function for histograms).\n",
      "  warnings.warn(msg, FutureWarning)\n",
      "E:\\anaconda\\lib\\site-packages\\seaborn\\distributions.py:2551: FutureWarning: `distplot` is a deprecated function and will be removed in a future version. Please adapt your code to use either `displot` (a figure-level function with similar flexibility) or `histplot` (an axes-level function for histograms).\n",
      "  warnings.warn(msg, FutureWarning)\n"
     ]
    },
    {
     "data": {
      "text/plain": [
       "<AxesSubplot:ylabel='Density'>"
      ]
     },
     "execution_count": 25,
     "metadata": {},
     "output_type": "execute_result"
    },
    {
     "data": {
      "image/png": "[encoded data removed]",
      "text/plain": [
       "<Figure size 432x288 with 1 Axes>"
      ]
     },
     "metadata": {
      "needs_background": "light"
     },
     "output_type": "display_data"
    }
   ],
   "source": [
    "import numpy as np\n",
    "from scipy.stats import norm, chi2\n",
    "import seaborn as sns\n",
    "def chi_distr(df=1):\n",
    "    return np.sum(norm.rvs(size=df)**2)\n",
    "\n",
    "# Генерируем Хи-квадрат распределение согласно определению\n",
    "size_chi, df = 10**5, 146 # Всего 1 млн значений для 10 степеней свободы\n",
    "Chi2_values = [chi_distr(df=df) for _ in range(size_chi)]\n",
    "\n",
    "\n",
    "# Воспользуемся генерацией из готового пакета\n",
    "from scipy.stats import chi2\n",
    "Chi_values_rvs = chi2.rvs(df=df, size=size_chi)\n",
    "\n",
    "sns.distplot(Chi2_values)\n",
    "sns.distplot(Chi_values_rvs)"
   ]
  },
  {
   "cell_type": "code",
   "execution_count": 26,
   "metadata": {},
   "outputs": [],
   "source": [
    "sp.stats.t.pdf??"
   ]
  },
  {
   "cell_type": "markdown",
   "metadata": {},
   "source": [
    "На всякий случай еще запустим анализ парной регрессии из статистического пакета и посмотрим:\n",
    "   * самый главный показатель  R-squared - около нуля (это то количество данных которая наша модель объясняет, ничего не объясняет, значит наша модель не работает)\n",
    "   * ну и помимо прочего коэф при скидке  -0.1943 - гораздо меньше стандартной ошибки,=>, коэффициент не значим"
   ]
  },
  {
   "cell_type": "code",
   "execution_count": 27,
   "metadata": {},
   "outputs": [],
   "source": [
    "code = 10001\n",
    "\n",
    "def one_code_model(code,data):\n",
    "    models_quality = pd.DataFrame( columns = ['Name', 'r2_score','mean_squared_error',\n",
    "                                              'mean_absolute_percentage_error'])\n",
    "\n",
    "\n",
    "    # ohe\n",
    "    data = pd.get_dummies(data_new, columns=['month','year'], drop_first=True)\n",
    "\n",
    "\n",
    "    # возьмем из датасета данныe XY по 1 наименованию \n",
    "    XY = data[data['code_sales'] == code]\n",
    "\n",
    "    y = XY['Продажи, шт']\n",
    "    X = XY.drop(['Продажи, шт'], axis=1)\n",
    "\n",
    "    # также выделим часть данных для проверки качества модели \n",
    "    \n",
    "    X_train, X_holdout, y_train, y_holdout = train_test_split(X, y, test_size=0.3,shuffle=False)\n",
    "\n",
    "    model_one = LinearRegression()\n",
    "    model_one.fit(X_train, y_train)\n",
    "\n",
    "\n",
    "    models_quality = models_quality.append({'Name': int(code),\n",
    "                                            'r2_score': r2_score(y_holdout, model_one.predict(X_holdout)),\n",
    "                                            'mean_squared_error': mean_squared_error(y_holdout, model_one.predict(X_holdout)),\n",
    "                                            'mean_absolute_percentage_error': mean_absolute_percentage_error(y_holdout, model_one.predict(X_holdout))}, ignore_index=True)\n",
    "    return models_quality"
   ]
  },
  {
   "cell_type": "code",
   "execution_count": 28,
   "metadata": {},
   "outputs": [
    {
     "data": {
      "text/html": [
       "<div>\n",
       "<style scoped>\n",
       "    .dataframe tbody tr th:only-of-type {\n",
       "        vertical-align: middle;\n",
       "    }\n",
       "\n",
       "    .dataframe tbody tr th {\n",
       "        vertical-align: top;\n",
       "    }\n",
       "\n",
       "    .dataframe thead th {\n",
       "        text-align: right;\n",
       "    }\n",
       "</style>\n",
       "<table border=\"1\" class=\"dataframe\">\n",
       "  <thead>\n",
       "    <tr style=\"text-align: right;\">\n",
       "      <th></th>\n",
       "      <th>Name</th>\n",
       "      <th>r2_score</th>\n",
       "      <th>mean_squared_error</th>\n",
       "      <th>mean_absolute_percentage_error</th>\n",
       "    </tr>\n",
       "  </thead>\n",
       "  <tbody>\n",
       "    <tr>\n",
       "      <th>0</th>\n",
       "      <td>10001.0</td>\n",
       "      <td>-0.971075</td>\n",
       "      <td>3497.271372</td>\n",
       "      <td>0.498739</td>\n",
       "    </tr>\n",
       "  </tbody>\n",
       "</table>\n",
       "</div>"
      ],
      "text/plain": [
       "      Name  r2_score  mean_squared_error  mean_absolute_percentage_error\n",
       "0  10001.0 -0.971075         3497.271372                        0.498739"
      ]
     },
     "execution_count": 28,
     "metadata": {},
     "output_type": "execute_result"
    }
   ],
   "source": [
    "one_code_model(code,data=data_new)"
   ]
  },
  {
   "cell_type": "code",
   "execution_count": 29,
   "metadata": {},
   "outputs": [
    {
     "data": {
      "text/html": [
       "<div>\n",
       "<style scoped>\n",
       "    .dataframe tbody tr th:only-of-type {\n",
       "        vertical-align: middle;\n",
       "    }\n",
       "\n",
       "    .dataframe tbody tr th {\n",
       "        vertical-align: top;\n",
       "    }\n",
       "\n",
       "    .dataframe thead th {\n",
       "        text-align: right;\n",
       "    }\n",
       "</style>\n",
       "<table border=\"1\" class=\"dataframe\">\n",
       "  <thead>\n",
       "    <tr style=\"text-align: right;\">\n",
       "      <th></th>\n",
       "      <th>code_sales</th>\n",
       "      <th>year</th>\n",
       "      <th>month</th>\n",
       "      <th>скидка</th>\n",
       "      <th>Продажи, шт</th>\n",
       "    </tr>\n",
       "  </thead>\n",
       "  <tbody>\n",
       "    <tr>\n",
       "      <th>0</th>\n",
       "      <td>10001</td>\n",
       "      <td>2017</td>\n",
       "      <td>01</td>\n",
       "      <td>0</td>\n",
       "      <td>117</td>\n",
       "    </tr>\n",
       "    <tr>\n",
       "      <th>1</th>\n",
       "      <td>10001</td>\n",
       "      <td>2017</td>\n",
       "      <td>01</td>\n",
       "      <td>4</td>\n",
       "      <td>54</td>\n",
       "    </tr>\n",
       "    <tr>\n",
       "      <th>2</th>\n",
       "      <td>10001</td>\n",
       "      <td>2017</td>\n",
       "      <td>01</td>\n",
       "      <td>6</td>\n",
       "      <td>35</td>\n",
       "    </tr>\n",
       "    <tr>\n",
       "      <th>3</th>\n",
       "      <td>10001</td>\n",
       "      <td>2017</td>\n",
       "      <td>01</td>\n",
       "      <td>11</td>\n",
       "      <td>123</td>\n",
       "    </tr>\n",
       "    <tr>\n",
       "      <th>4</th>\n",
       "      <td>10001</td>\n",
       "      <td>2017</td>\n",
       "      <td>01</td>\n",
       "      <td>12</td>\n",
       "      <td>28</td>\n",
       "    </tr>\n",
       "    <tr>\n",
       "      <th>...</th>\n",
       "      <td>...</td>\n",
       "      <td>...</td>\n",
       "      <td>...</td>\n",
       "      <td>...</td>\n",
       "      <td>...</td>\n",
       "    </tr>\n",
       "    <tr>\n",
       "      <th>313863</th>\n",
       "      <td>9902</td>\n",
       "      <td>2018</td>\n",
       "      <td>06</td>\n",
       "      <td>1</td>\n",
       "      <td>94</td>\n",
       "    </tr>\n",
       "    <tr>\n",
       "      <th>313864</th>\n",
       "      <td>9902</td>\n",
       "      <td>2018</td>\n",
       "      <td>06</td>\n",
       "      <td>2</td>\n",
       "      <td>113</td>\n",
       "    </tr>\n",
       "    <tr>\n",
       "      <th>313865</th>\n",
       "      <td>9902</td>\n",
       "      <td>2018</td>\n",
       "      <td>06</td>\n",
       "      <td>3</td>\n",
       "      <td>95</td>\n",
       "    </tr>\n",
       "    <tr>\n",
       "      <th>313866</th>\n",
       "      <td>9902</td>\n",
       "      <td>2018</td>\n",
       "      <td>06</td>\n",
       "      <td>5</td>\n",
       "      <td>53</td>\n",
       "    </tr>\n",
       "    <tr>\n",
       "      <th>313867</th>\n",
       "      <td>9902</td>\n",
       "      <td>2018</td>\n",
       "      <td>06</td>\n",
       "      <td>13</td>\n",
       "      <td>68</td>\n",
       "    </tr>\n",
       "  </tbody>\n",
       "</table>\n",
       "<p>313868 rows × 5 columns</p>\n",
       "</div>"
      ],
      "text/plain": [
       "        code_sales  year month  скидка  Продажи, шт\n",
       "0            10001  2017    01       0          117\n",
       "1            10001  2017    01       4           54\n",
       "2            10001  2017    01       6           35\n",
       "3            10001  2017    01      11          123\n",
       "4            10001  2017    01      12           28\n",
       "...            ...   ...   ...     ...          ...\n",
       "313863        9902  2018    06       1           94\n",
       "313864        9902  2018    06       2          113\n",
       "313865        9902  2018    06       3           95\n",
       "313866        9902  2018    06       5           53\n",
       "313867        9902  2018    06      13           68\n",
       "\n",
       "[313868 rows x 5 columns]"
      ]
     },
     "execution_count": 29,
     "metadata": {},
     "output_type": "execute_result"
    }
   ],
   "source": [
    "data_new"
   ]
  },
  {
   "cell_type": "code",
   "execution_count": 30,
   "metadata": {},
   "outputs": [],
   "source": [
    "from tqdm.notebook import tqdm"
   ]
  },
  {
   "cell_type": "code",
   "execution_count": null,
   "metadata": {},
   "outputs": [
    {
     "data": {
      "application/vnd.jupyter.widget-view+json": {
       "model_id": "866e19944e36401c87eeaa2ab792f31c",
       "version_major": 2,
       "version_minor": 0
      },
      "text/plain": [
       "HBox(children=(HTML(value=''), FloatProgress(value=0.0, max=1292.0), HTML(value='')))"
      ]
     },
     "metadata": {},
     "output_type": "display_data"
    },
    {
     "name": "stdout",
     "output_type": "stream",
     "text": [
      "302\n",
      "49501\n",
      "49502\n"
     ]
    },
    {
     "name": "stderr",
     "output_type": "stream",
     "text": [
      "E:\\anaconda\\lib\\site-packages\\sklearn\\metrics\\_regression.py:796: UndefinedMetricWarning: R^2 score is not well-defined with less than two samples.\n",
      "  warnings.warn(msg, UndefinedMetricWarning)\n",
      "E:\\anaconda\\lib\\site-packages\\sklearn\\metrics\\_regression.py:796: UndefinedMetricWarning: R^2 score is not well-defined with less than two samples.\n",
      "  warnings.warn(msg, UndefinedMetricWarning)\n",
      "E:\\anaconda\\lib\\site-packages\\sklearn\\metrics\\_regression.py:796: UndefinedMetricWarning: R^2 score is not well-defined with less than two samples.\n",
      "  warnings.warn(msg, UndefinedMetricWarning)\n"
     ]
    }
   ],
   "source": [
    "codes_from_df = set(data_new['code_sales'])\n",
    "# results = list(map(lambda x: one_code_model(x,data=data_new),codes_from_df))\n",
    "\n",
    "models_quality = []\n",
    "\n",
    "for code in tqdm(codes_from_df):\n",
    "    try:\n",
    "        \n",
    "        models_quality.append(one_code_model(code,data=data_new))\n",
    "    except:\n",
    "        print(code)\n",
    "        continue"
   ]
  },
  {
   "cell_type": "code",
   "execution_count": null,
   "metadata": {},
   "outputs": [],
   "source": [
    "models_quality_df = pd.concat(models_quality)\n",
    "models_quality_df[models_quality_df['r2_score']>0.4]"
   ]
  },
  {
   "cell_type": "code",
   "execution_count": null,
   "metadata": {},
   "outputs": [],
   "source": [
    "data_new"
   ]
  },
  {
   "cell_type": "code",
   "execution_count": null,
   "metadata": {},
   "outputs": [],
   "source": [
    "data_forecast = pd.read_excel('C:/Users/Peter/Documents/GitHub/PeterOstr/test_run/Forecast_of_discounts.xlsx')\n",
    "\n",
    "data_forecast[['del','code']] = data_forecast['Код товара'].str.split(\"_\", expand = True)\n",
    "\n",
    "# заменим направлени продаж для удобства цифрами\n",
    "\n",
    "data_forecast[\"Направление продаж\"].replace({\"Розничная торговля\": \"01\",\n",
    "                      \"Оптовая торговля\": \"02\"}, inplace=True)\n",
    "\n",
    "data_forecast.rename(columns={'Month': \"month\",\n",
    "                                       'Year': \"year\"}, inplace=True)\n",
    "\n",
    "\n",
    "data_forecast"
   ]
  },
  {
   "cell_type": "code",
   "execution_count": null,
   "metadata": {},
   "outputs": [],
   "source": [
    "data_forecast.pivot_table(index='code',columns=)"
   ]
  },
  {
   "cell_type": "code",
   "execution_count": null,
   "metadata": {},
   "outputs": [],
   "source": [
    "data_forecast['code_sales'] = data_forecast['code'].astype(str) + data_forecast['Направление продаж']\n",
    "\n",
    "data_forecast['code_sales'] = data_forecast['code_sales'].astype(int)\n",
    "\n",
    "data_forecast.drop([\"Код товара\",'Направление продаж','del','code'], axis=1, inplace=True)\n",
    "\n",
    "# добавляем коды с нулевой скидкой\n",
    "code_no_sale = set(data_new['code_sales']) - set(data_forecast['code_sales'])\n",
    "code_no_sale = list(code_no_sale)\n",
    "for i in range (len(code_no_sale)):\n",
    "    new_row = {'code_sales':code_no_sale[i],\n",
    "               'Скидка':0,\n",
    "             'month':7,\n",
    "             'year':2018 }\n",
    "    data_forecast = data_forecast.append(new_row, ignore_index=True)\n",
    "    \n",
    "\n",
    "# data_forecast = pd.get_dummies(data_forecast, columns=['month'], drop_first=False)\n",
    "\n",
    "# for i in range(2,7):\n",
    "#     month_column = 'month_' + str(i)\n",
    "#     data_forecast[month_column] = 0\n",
    "# for i in range(10,13):\n",
    "#     month_column = 'month_' + str(i)\n",
    "#     data_forecast[month_column] = 0\n",
    "\n",
    "data_forecast"
   ]
  },
  {
   "cell_type": "code",
   "execution_count": null,
   "metadata": {},
   "outputs": [],
   "source": []
  },
  {
   "cell_type": "code",
   "execution_count": null,
   "metadata": {},
   "outputs": [],
   "source": [
    "pd.DataFrame(data=np.array([[code]])"
   ]
  },
  {
   "cell_type": "code",
   "execution_count": null,
   "metadata": {},
   "outputs": [],
   "source": [
    "code_no_sale = set(data_new_final['code_sales']) - set(data_forecast['code_sales'])\n",
    "code_no_sale = list(code_no_sale)\n",
    "for i in range (len(code_no_sale)):\n",
    "    new_row = {'code_sales':code_no_sale[i],\n",
    "               'Скидка':0,\n",
    "             'month':9,\n",
    "             'year':2018 }\n",
    "    data_forecast = data_forecast.append(new_row, ignore_index=True)\n",
    "data_forecast"
   ]
  },
  {
   "cell_type": "code",
   "execution_count": null,
   "metadata": {},
   "outputs": [],
   "source": [
    "data_forecast"
   ]
  },
  {
   "cell_type": "code",
   "execution_count": null,
   "metadata": {},
   "outputs": [],
   "source": [
    "data_new_final = pd.get_dummies(data_new, columns=['month','year'], drop_first=True)\n",
    "data_new_final"
   ]
  },
  {
   "cell_type": "code",
   "execution_count": null,
   "metadata": {},
   "outputs": [],
   "source": [
    "data_new_final.info()"
   ]
  },
  {
   "cell_type": "code",
   "execution_count": null,
   "metadata": {},
   "outputs": [],
   "source": [
    "code_sales = 10001\n",
    "data_code = data_new_final.query(f\"code_sales=={code_sales}\").drop(columns=['code_sales'])\n",
    "\n",
    "\n",
    "model = sm.OLS(endog=data_code['Продажи, шт'], \n",
    "       exog=sm.add_constant(data_code.drop(columns=['Продажи, шт'])))\n",
    "model.fit().summary()\n"
   ]
  },
  {
   "cell_type": "markdown",
   "metadata": {},
   "source": [
    "**Вывод:**\n",
    "\n",
    "Зависимости целевой переменной - продаж от параметров (скидка, месяц, год) не имеют линейной зависимости, соответственно не имеет смысла пытаться предсказать продажи в 18 году при помощи лин регрессии. Как вариант, возможно здесь стоит применить модели временных рядов (ARIMA, SARIMA)"
   ]
  },
  {
   "cell_type": "code",
   "execution_count": null,
   "metadata": {},
   "outputs": [],
   "source": []
  },
  {
   "cell_type": "code",
   "execution_count": null,
   "metadata": {},
   "outputs": [],
   "source": []
  },
  {
   "cell_type": "code",
   "execution_count": null,
   "metadata": {},
   "outputs": [],
   "source": []
  },
  {
   "cell_type": "code",
   "execution_count": null,
   "metadata": {},
   "outputs": [],
   "source": []
  },
  {
   "cell_type": "code",
   "execution_count": null,
   "metadata": {},
   "outputs": [],
   "source": []
  },
  {
   "cell_type": "code",
   "execution_count": null,
   "metadata": {},
   "outputs": [],
   "source": []
  },
  {
   "cell_type": "code",
   "execution_count": null,
   "metadata": {},
   "outputs": [],
   "source": []
  },
  {
   "cell_type": "code",
   "execution_count": null,
   "metadata": {},
   "outputs": [],
   "source": []
  },
  {
   "cell_type": "code",
   "execution_count": null,
   "metadata": {},
   "outputs": [],
   "source": []
  },
  {
   "cell_type": "code",
   "execution_count": null,
   "metadata": {},
   "outputs": [],
   "source": []
  },
  {
   "cell_type": "code",
   "execution_count": null,
   "metadata": {},
   "outputs": [],
   "source": []
  },
  {
   "cell_type": "code",
   "execution_count": null,
   "metadata": {},
   "outputs": [],
   "source": []
  },
  {
   "cell_type": "code",
   "execution_count": null,
   "metadata": {},
   "outputs": [],
   "source": []
  },
  {
   "cell_type": "code",
   "execution_count": null,
   "metadata": {},
   "outputs": [],
   "source": []
  }
 ],
 "metadata": {
  "kernelspec": {
   "display_name": "Python 3",
   "language": "python",
   "name": "python3"
  },
  "language_info": {
   "codemirror_mode": {
    "name": "ipython",
    "version": 3
   },
   "file_extension": ".py",
   "mimetype": "text/x-python",
   "name": "python",
   "nbconvert_exporter": "python",
   "pygments_lexer": "ipython3",
   "version": "3.8.5"
  }
 },
 "nbformat": 4,
 "nbformat_minor": 4
}
