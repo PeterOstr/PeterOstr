{
 "cells": [
  {
   "cell_type": "code",
   "execution_count": null,
   "metadata": {},
   "outputs": [],
   "source": [
    "data_one_id = data_prep.xs(226000188, level='WELL_ID')\n",
    "data_one_id = data_one_id.drop(['targ_press_d','targ_press_h','targ_press_w'],axis=1)"
   ]
  },
  {
   "cell_type": "code",
   "execution_count": null,
   "metadata": {},
   "outputs": [],
   "source": [
    "corr_matrix = data_one_id.corr()\n",
    "high_corr = [\n",
    "    column for column in lower.columns if any((lower[column] > 0.6)|(lower[column] < -0.6))\n",
    "]"
   ]
  },
  {
   "cell_type": "code",
   "execution_count": null,
   "metadata": {},
   "outputs": [],
   "source": [
    "other_features = [col for col in data_one_id.columns if col not in high_corr and col!='quality']\n"
   ]
  },
  {
   "cell_type": "code",
   "execution_count": null,
   "metadata": {},
   "outputs": [],
   "source": [
    "data_features = data_one_id.copy()\n"
   ]
  },
  {
   "cell_type": "code",
   "execution_count": null,
   "metadata": {},
   "outputs": [],
   "source": [
    "comparison_table, std_outliers = get_column_outliers(data_features)\n",
    "anomalies_report(std_outliers)"
   ]
  },
  {
   "cell_type": "code",
   "execution_count": null,
   "metadata": {},
   "outputs": [],
   "source": [
    "comparison_table, iqr_outliers = get_column_outliers(data_features, function=outlier_iqr)\n"
   ]
  },
  {
   "cell_type": "code",
   "execution_count": null,
   "metadata": {},
   "outputs": [],
   "source": [
    "scaler = RobustScaler()\n",
    "scaled_data = pd.DataFrame(\n",
    "    data=scaler.fit_transform(data_features), \n",
    "    columns=data_features.columns\n",
    ")"
   ]
  },
  {
   "cell_type": "code",
   "execution_count": null,
   "metadata": {},
   "outputs": [],
   "source": [
    "euclidian_model = DistanceOutliers(metric='euclidean', percentile=90)\n",
    "euclidian_model.fit(scaled_data)\n",
    "euclidian_outliers = euclidian_model.predict(scaled_data)"
   ]
  },
  {
   "cell_type": "code",
   "execution_count": null,
   "metadata": {},
   "outputs": [],
   "source": [
    "#DBSCAN\n",
    "# для начала считаем все наблюдения аномальными\n",
    "outlier_percentage = 1.\n",
    "\n",
    "num_clusters = []\n",
    "anomaly_percentage = []\n",
    "\n",
    "# берем маленький эпсилон и начинаем увеличивать\n",
    "eps = 0.05\n",
    "eps_history = [eps]\n",
    "while outlier_percentage>0.05:    \n",
    "    model = DBSCAN(eps=eps).fit(scaled_data)\n",
    "    labels = model.labels_\n",
    "    num_clusters.append(len(np.unique(labels))-1)\n",
    "    labels = np.array([1 if label == -1 else 0 for label in labels])\n",
    "    # считаем текущий процент \"шума\"\n",
    "    outlier_percentage = sum(labels==1) / len(labels)    \n",
    "    eps += 0.05\n",
    "    eps_history.append(eps)\n",
    "    anomaly_percentage.append(outlier_percentage)\n",
    "    \n",
    "model = DBSCAN(eps)\n",
    "model.fit(scaled_data)\n",
    "density_outlier = np.array([1 if label == -1 else 0 for label in model.labels_])\n",
    "\n",
    "model = DBSCAN(1.3)\n",
    "model.fit(scaled_data)\n",
    "density_outlier = np.array([1 if label == -1 else 0 for label in model.labels_])"
   ]
  },
  {
   "cell_type": "code",
   "execution_count": null,
   "metadata": {},
   "outputs": [],
   "source": [
    "#SVM\n",
    "one_class_svm = OneClassSVM(nu=0.1, gamma='auto')\n",
    "one_class_svm.fit(scaled_data)\n",
    "svm_outliers = one_class_svm.predict(scaled_data)\n",
    "svm_outliers = np.array([1 if label == -1 else 0 for label in svm_outliers])"
   ]
  },
  {
   "cell_type": "code",
   "execution_count": null,
   "metadata": {},
   "outputs": [],
   "source": [
    "#Iforest\n",
    "isolation_forest = IsolationForest(n_estimators=100, contamination=0.1, \n",
    "                                   max_features=1.0, bootstrap=True, behaviour=\"new\")\n",
    "isolation_forest.fit(scaled_data)\n",
    "\n",
    "isolation_outliers = isolation_forest.predict(scaled_data)\n",
    "isolation_outliers = np.array([1 if label == -1 else 0 for label in isolation_outliers])"
   ]
  },
  {
   "cell_type": "code",
   "execution_count": null,
   "metadata": {},
   "outputs": [],
   "source": [
    "summary = np.concatenate((\n",
    "    [std_outliers], \n",
    "    [iqr_outliers], \n",
    "    [euclidian_outliers], \n",
    "#     [cityblock_outliers],\n",
    "    [density_outlier],\n",
    "    [svm_outliers],\n",
    "    [isolation_outliers]\n",
    "))"
   ]
  },
  {
   "cell_type": "code",
   "execution_count": null,
   "metadata": {},
   "outputs": [],
   "source": [
    "summary = pd.DataFrame(\n",
    "    summary.T, \n",
    "    columns=['std', 'iqr', 'euclid', \n",
    "#              'cityblock',\n",
    "             'dbscan', 'svm', 'isolation']\n",
    ")\n",
    "summary.head()"
   ]
  },
  {
   "cell_type": "code",
   "execution_count": null,
   "metadata": {},
   "outputs": [],
   "source": [
    "data_one_id_y = data_one_id_y.reset_index()\n",
    "comparsion_with_y_outline = summary.copy()\n",
    "comparsion_with_y_outline['2sigma'] = data_one_id_y['2sigma']\n",
    "comparsion_with_y_outline['3sigma'] = data_one_id_y['3sigma']\n",
    "\n",
    "comparsion_with_y_outline"
   ]
  },
  {
   "cell_type": "code",
   "execution_count": null,
   "metadata": {},
   "outputs": [],
   "source": [
    "comparsion_with_y_outline = labeled_data['outlier_score']\n",
    "comparsion_with_y_outline = pd.DataFrame(comparsion_with_y_outline)\n",
    "comparsion_with_y_outline['2sigma'] = data_one_id_y['2sigma']\n",
    "comparsion_with_y_outline['3sigma'] = data_one_id_y['3sigma']"
   ]
  },
  {
   "cell_type": "markdown",
   "metadata": {},
   "source": [
    "abod\tAngle-base Outlier Detection\tpyod.models.abod.ABOD\n",
    "cluster\tClustering-Based Local Outlier\tpyod.models.cblof.CBLOF\n",
    "cof\tConnectivity-Based Local Outlier\tpyod.models.cof.COF\n",
    "iforest\tIsolation Forest\tpyod.models.iforest.IForest\n",
    "histogram\tHistogram-based Outlier Detection\tpyod.models.hbos.HBOS\n",
    "knn\tK-Nearest Neighbors Detector\tpyod.models.knn.KNN\n",
    "lof\tLocal Outlier Factor\tpyod.models.lof.LOF\n",
    "svm\tOne-class SVM detector\tpyod.models.ocsvm.OCSVM\n",
    "pca\tPrincipal Component Analysis\tpyod.models.pca.PCA\n",
    "mcd\tMinimum Covariance Determinant\tpyod.models.mcd.MCD\n",
    "sod\tSubspace Outlier Detection\tpyod.models.sod.SOD\n",
    "sos\tStochastic Outlier Selection\tpyod.models.sos.SOS"
   ]
  },
  {
   "cell_type": "markdown",
   "metadata": {},
   "source": [
    "cluster\tClustering-Based Local Outlier\tpyod.models.cblof.CBLOF\n",
    "\n",
    "\n",
    "sos\tStochastic Outlier Selection\tpyod.models.sos.SOS"
   ]
  },
  {
   "cell_type": "code",
   "execution_count": null,
   "metadata": {},
   "outputs": [],
   "source": [
    "iforest = create_model('iforest', fraction = 0.1)\n",
    "iforest_results = assign_model(iforest)\n",
    "result_score = pd.DataFrame(index = iforest_results.index)\n",
    "result_score['iforest_an'] = iforest_results['Anomaly']\n",
    "result_score['iforest_an_sc'] = iforest_results['Anomaly_Score']\n",
    "result_score "
   ]
  },
  {
   "cell_type": "code",
   "execution_count": null,
   "metadata": {},
   "outputs": [],
   "source": [
    "# train model abod\n",
    "abod = create_model('abod', fraction = 0.1)\n",
    "abod_results = assign_model(abod)"
   ]
  },
  {
   "cell_type": "code",
   "execution_count": null,
   "metadata": {},
   "outputs": [],
   "source": [
    "result_score['abod_an'] = abod_results['Anomaly']\n",
    "result_score['abod_an_sc'] = abod_results['Anomaly_Score']\n",
    "result_score"
   ]
  },
  {
   "cell_type": "code",
   "execution_count": null,
   "metadata": {},
   "outputs": [],
   "source": [
    "# train model abod\n",
    "cluster = create_model('cluster', fraction = 0.1)\n",
    "cluster_results = assign_model(cluster)"
   ]
  },
  {
   "cell_type": "code",
   "execution_count": null,
   "metadata": {},
   "outputs": [],
   "source": [
    "result_score['cluster_an'] = cluster_results['Anomaly']\n",
    "result_score['cluster_an_sc'] = cluster_results['Anomaly_Score']\n",
    "result_score"
   ]
  },
  {
   "cell_type": "code",
   "execution_count": null,
   "metadata": {},
   "outputs": [],
   "source": [
    "# train model iforest\n",
    "cof = create_model('cof', fraction = 0.1)\n",
    "cof_results = assign_model(cof)\n",
    "cof_results.head()"
   ]
  },
  {
   "cell_type": "code",
   "execution_count": null,
   "metadata": {},
   "outputs": [],
   "source": [
    "result_score['cof_an'] = cof_results['Anomaly']\n",
    "result_score['cof_an_sc'] = cof_results['Anomaly_Score']\n",
    "result_score"
   ]
  },
  {
   "cell_type": "code",
   "execution_count": null,
   "metadata": {},
   "outputs": [],
   "source": [
    "# train model abod\n",
    "histogram = create_model('histogram', fraction = 0.1)\n",
    "histogram_results = assign_model(histogram)"
   ]
  },
  {
   "cell_type": "code",
   "execution_count": null,
   "metadata": {},
   "outputs": [],
   "source": [
    "result_score['histogram_an'] = histogram_results['Anomaly']\n",
    "result_score['histogram_an_sc'] = histogram_results['Anomaly_Score']\n",
    "result_score"
   ]
  },
  {
   "cell_type": "code",
   "execution_count": null,
   "metadata": {},
   "outputs": [],
   "source": [
    "# train model abod\n",
    "knn = create_model('knn', fraction = 0.1)\n",
    "knn_results = assign_model(knn)"
   ]
  },
  {
   "cell_type": "code",
   "execution_count": null,
   "metadata": {},
   "outputs": [],
   "source": [
    "result_score['knn_an'] = knn_results['Anomaly']\n",
    "result_score['knn_an_sc'] = knn_results['Anomaly_Score']\n",
    "result_score"
   ]
  },
  {
   "cell_type": "code",
   "execution_count": null,
   "metadata": {},
   "outputs": [],
   "source": [
    "# train model abod\n",
    "lof = create_model('lof', fraction = 0.1)\n",
    "lof_results = assign_model(lof)"
   ]
  },
  {
   "cell_type": "code",
   "execution_count": null,
   "metadata": {},
   "outputs": [],
   "source": [
    "result_score['lof_an'] = lof_results['Anomaly']\n",
    "result_score['lof_an_sc'] = lof_results['Anomaly_Score']\n",
    "result_score"
   ]
  },
  {
   "cell_type": "code",
   "execution_count": null,
   "metadata": {},
   "outputs": [],
   "source": [
    "# train model abod\n",
    "svm = create_model('svm', fraction = 0.1)\n",
    "svm_results = assign_model(svm)"
   ]
  },
  {
   "cell_type": "code",
   "execution_count": null,
   "metadata": {},
   "outputs": [],
   "source": [
    "result_score['svm_an'] = svm_results['Anomaly']\n",
    "result_score['svm_an_sc'] = svm_results['Anomaly_Score']\n",
    "result_score"
   ]
  },
  {
   "cell_type": "code",
   "execution_count": null,
   "metadata": {},
   "outputs": [],
   "source": [
    "# train model abod\n",
    "pca = create_model('pca', fraction = 0.1)\n",
    "pca_results = assign_model(pca)"
   ]
  },
  {
   "cell_type": "code",
   "execution_count": null,
   "metadata": {},
   "outputs": [],
   "source": [
    "result_score['pca_an'] = pca_results['Anomaly']\n",
    "result_score['pca_an_sc'] = pca_results['Anomaly_Score']\n",
    "result_score"
   ]
  },
  {
   "cell_type": "code",
   "execution_count": null,
   "metadata": {},
   "outputs": [],
   "source": [
    "# train model abod\n",
    "mcd = create_model('mcd', fraction = 0.1)\n",
    "mcd_results = assign_model(mcd)"
   ]
  },
  {
   "cell_type": "code",
   "execution_count": null,
   "metadata": {},
   "outputs": [],
   "source": [
    "result_score['mcd_an'] = mcd_results['Anomaly']\n",
    "result_score['mcd_an_sc'] = mcd_results['Anomaly_Score']\n",
    "result_score"
   ]
  },
  {
   "cell_type": "code",
   "execution_count": null,
   "metadata": {},
   "outputs": [],
   "source": [
    "# train model abod\n",
    "sod = create_model('sod', fraction = 0.1)\n",
    "sod_results = assign_model(sod)"
   ]
  },
  {
   "cell_type": "code",
   "execution_count": null,
   "metadata": {},
   "outputs": [],
   "source": [
    "result_score['sod_an'] = sod_results['Anomaly']\n",
    "result_score['sod_an_sc'] = sod_results['Anomaly_Score']\n",
    "result_score"
   ]
  },
  {
   "cell_type": "code",
   "execution_count": null,
   "metadata": {},
   "outputs": [],
   "source": [
    "# train model abod\n",
    "sos = create_model('sos', fraction = 0.1)\n",
    "sos_results = assign_model(sos)"
   ]
  },
  {
   "cell_type": "code",
   "execution_count": null,
   "metadata": {},
   "outputs": [],
   "source": [
    "result_score['sos_an'] = sos_results['Anomaly']\n",
    "result_score['sos_an_sc'] = sos_results['Anomaly_Score']\n",
    "result_score"
   ]
  },
  {
   "cell_type": "code",
   "execution_count": null,
   "metadata": {},
   "outputs": [],
   "source": []
  }
 ],
 "metadata": {
  "kernelspec": {
   "display_name": "Python 3",
   "language": "python",
   "name": "python3"
  },
  "language_info": {
   "codemirror_mode": {
    "name": "ipython",
    "version": 3
   },
   "file_extension": ".py",
   "mimetype": "text/x-python",
   "name": "python",
   "nbconvert_exporter": "python",
   "pygments_lexer": "ipython3",
   "version": "3.8.5"
  }
 },
 "nbformat": 4,
 "nbformat_minor": 4
}
